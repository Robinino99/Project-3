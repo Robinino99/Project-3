{
 "cells": [
  {
   "cell_type": "markdown",
   "id": "e7edf104-c9ae-49b0-95fc-1426824811eb",
   "metadata": {},
   "source": [
    "# Project 3 (Part 2)_A"
   ]
  },
  {
   "cell_type": "markdown",
   "id": "30e35a8b-f246-4827-afff-229890a7e26b",
   "metadata": {},
   "source": [
    "## Import Libraries"
   ]
  },
  {
   "cell_type": "code",
   "execution_count": 1,
   "id": "fbaa0ffa-3665-4f3e-8bed-c1dd584c9706",
   "metadata": {},
   "outputs": [
    {
     "data": {
      "text/plain": [
       "[]"
      ]
     },
     "execution_count": 1,
     "metadata": {},
     "output_type": "execute_result"
    }
   ],
   "source": [
    "# Standard Imports\n",
    "import numpy as np\n",
    "import pandas as pd\n",
    "import matplotlib.pyplot as plt\n",
    "import seaborn as sns\n",
    "\n",
    "# Additional Imports\n",
    "# os - for saving and loading files\n",
    "# json - to work with json files\n",
    "# math - to round up results\n",
    "# time - to add a short pause to not overwhelm the server\n",
    "import os, json, math, time\n",
    "from tqdm.notebook import tqdm_notebook\n",
    "import tmdbsimple as tmdb \n",
    "FOLDER = r\"C:\\Users\\om22285\\OneDrive - Old Mutual\\Documents\\Employee Performance\\2023\\Umluzi Data Science Bootcamp\\Coding Dojo Environment\\Project-3\\Data\\Movies\"\n",
    "os.makedirs(FOLDER, exist_ok=True)\n",
    "os.listdir(FOLDER)\n"
   ]
  },
  {
   "cell_type": "markdown",
   "id": "1846ddd6-b5e8-49e8-b5f0-9fa6e60a667a",
   "metadata": {},
   "source": [
    "## Custom Function 1"
   ]
  },
  {
   "cell_type": "code",
   "execution_count": 2,
   "id": "03441b3c-2c79-449a-a472-f2d604052d2e",
   "metadata": {},
   "outputs": [],
   "source": [
    "def write_json(new_data, filename): \n",
    "    \"\"\"Appends a list of records (new_data) to a json file (filename). \n",
    "    Adapted from: https://www.geeksforgeeks.org/append-to-json-file-using-python/\"\"\"  \n",
    "    \n",
    "    with open(filename,'r+') as file:\n",
    "        # First we load existing data into a dict.\n",
    "        file_data = json.load(file)\n",
    "        ## Choose extend or append\n",
    "        if (type(new_data) == list) & (type(file_data) == list):\n",
    "            file_data.extend(new_data)\n",
    "        else:\n",
    "             file_data.append(new_data)\n",
    "        # Sets file's current position at offset.\n",
    "        file.seek(0)\n",
    "        # convert back to json.\n",
    "        json.dump(file_data, file)"
   ]
  },
  {
   "cell_type": "code",
   "execution_count": 7,
   "id": "b30d2d32-cdec-45db-abbc-2120f49fb9e7",
   "metadata": {},
   "outputs": [
    {
     "data": {
      "text/html": [
       "<div>\n",
       "<style scoped>\n",
       "    .dataframe tbody tr th:only-of-type {\n",
       "        vertical-align: middle;\n",
       "    }\n",
       "\n",
       "    .dataframe tbody tr th {\n",
       "        vertical-align: top;\n",
       "    }\n",
       "\n",
       "    .dataframe thead th {\n",
       "        text-align: right;\n",
       "    }\n",
       "</style>\n",
       "<table border=\"1\" class=\"dataframe\">\n",
       "  <thead>\n",
       "    <tr style=\"text-align: right;\">\n",
       "      <th></th>\n",
       "      <th>tconst</th>\n",
       "      <th>titleType</th>\n",
       "      <th>primaryTitle</th>\n",
       "      <th>originalTitle</th>\n",
       "      <th>isAdult</th>\n",
       "      <th>startYear</th>\n",
       "      <th>endYear</th>\n",
       "      <th>runtimeMinutes</th>\n",
       "      <th>genres</th>\n",
       "    </tr>\n",
       "  </thead>\n",
       "  <tbody>\n",
       "    <tr>\n",
       "      <th>0</th>\n",
       "      <td>tt0034413</td>\n",
       "      <td>short</td>\n",
       "      <td>Youth Gets a Break</td>\n",
       "      <td>Youth Gets a Break</td>\n",
       "      <td>0</td>\n",
       "      <td>2001</td>\n",
       "      <td>NaN</td>\n",
       "      <td>20.0</td>\n",
       "      <td>Short</td>\n",
       "    </tr>\n",
       "    <tr>\n",
       "      <th>1</th>\n",
       "      <td>tt0035423</td>\n",
       "      <td>movie</td>\n",
       "      <td>Kate &amp; Leopold</td>\n",
       "      <td>Kate &amp; Leopold</td>\n",
       "      <td>0</td>\n",
       "      <td>2001</td>\n",
       "      <td>NaN</td>\n",
       "      <td>118.0</td>\n",
       "      <td>Comedy,Fantasy,Romance</td>\n",
       "    </tr>\n",
       "    <tr>\n",
       "      <th>2</th>\n",
       "      <td>tt0111056</td>\n",
       "      <td>tvSeries</td>\n",
       "      <td>Gensomaden Saiyuki</td>\n",
       "      <td>Gensomaden Saiyuki</td>\n",
       "      <td>0</td>\n",
       "      <td>2000</td>\n",
       "      <td>2001.0</td>\n",
       "      <td>23.0</td>\n",
       "      <td>Action,Adventure,Animation</td>\n",
       "    </tr>\n",
       "    <tr>\n",
       "      <th>3</th>\n",
       "      <td>tt0113026</td>\n",
       "      <td>movie</td>\n",
       "      <td>The Fantasticks</td>\n",
       "      <td>The Fantasticks</td>\n",
       "      <td>0</td>\n",
       "      <td>2000</td>\n",
       "      <td>NaN</td>\n",
       "      <td>86.0</td>\n",
       "      <td>Musical,Romance</td>\n",
       "    </tr>\n",
       "    <tr>\n",
       "      <th>4</th>\n",
       "      <td>tt0113092</td>\n",
       "      <td>movie</td>\n",
       "      <td>For the Cause</td>\n",
       "      <td>For the Cause</td>\n",
       "      <td>0</td>\n",
       "      <td>2000</td>\n",
       "      <td>NaN</td>\n",
       "      <td>100.0</td>\n",
       "      <td>Action,Adventure,Drama</td>\n",
       "    </tr>\n",
       "  </tbody>\n",
       "</table>\n",
       "</div>"
      ],
      "text/plain": [
       "      tconst titleType        primaryTitle       originalTitle  isAdult  \\\n",
       "0  tt0034413     short  Youth Gets a Break  Youth Gets a Break        0   \n",
       "1  tt0035423     movie      Kate & Leopold      Kate & Leopold        0   \n",
       "2  tt0111056  tvSeries  Gensomaden Saiyuki  Gensomaden Saiyuki        0   \n",
       "3  tt0113026     movie     The Fantasticks     The Fantasticks        0   \n",
       "4  tt0113092     movie       For the Cause       For the Cause        0   \n",
       "\n",
       "   startYear  endYear  runtimeMinutes                      genres  \n",
       "0       2001      NaN            20.0                       Short  \n",
       "1       2001      NaN           118.0      Comedy,Fantasy,Romance  \n",
       "2       2000   2001.0            23.0  Action,Adventure,Animation  \n",
       "3       2000      NaN            86.0             Musical,Romance  \n",
       "4       2000      NaN           100.0      Action,Adventure,Drama  "
      ]
     },
     "execution_count": 7,
     "metadata": {},
     "output_type": "execute_result"
    }
   ],
   "source": [
    "# Load in the dataframe from project part 1 as basics:\n",
    "basics = pd.read_csv('Data/title_basics.csv.gz')\n",
    "\n",
    "# Display the first 5 rows to confirm title_basics has loaded into the dataframe\n",
    "basics.head(5)"
   ]
  },
  {
   "cell_type": "code",
   "execution_count": 9,
   "id": "ed61aff9-135b-4704-b48f-9aca0df91237",
   "metadata": {},
   "outputs": [],
   "source": [
    "# Define variables\n",
    "\n",
    "# Years to get (2000 and 2001)\n",
    "YEARS_TO_GET = [2000, 2001]\n",
    "\n",
    "# Error list\n",
    "errors = []"
   ]
  },
  {
   "cell_type": "code",
   "execution_count": 10,
   "id": "da102303-abca-49a4-9df6-f57a25a18688",
   "metadata": {},
   "outputs": [
    {
     "data": {
      "application/vnd.jupyter.widget-view+json": {
       "model_id": "8b460dd268a64d3a842967937f92286a",
       "version_major": 2,
       "version_minor": 0
      },
      "text/plain": [
       "YEARS:   0%|          | 0/2 [00:00<?, ?it/s]"
      ]
     },
     "metadata": {},
     "output_type": "display_data"
    },
    {
     "data": {
      "application/vnd.jupyter.widget-view+json": {
       "model_id": "cf0e6ef3911b43dbbbabcad4176468bf",
       "version_major": 2,
       "version_minor": 0
      },
      "text/plain": [
       "Movies from 2000:   0%|          | 0/11986 [00:00<?, ?it/s]"
      ]
     },
     "metadata": {},
     "output_type": "display_data"
    },
    {
     "data": {
      "application/vnd.jupyter.widget-view+json": {
       "model_id": "ea3aa868308645e48e14dd355ae35502",
       "version_major": 2,
       "version_minor": 0
      },
      "text/plain": [
       "Movies from 2001:   0%|          | 0/12812 [00:00<?, ?it/s]"
      ]
     },
     "metadata": {},
     "output_type": "display_data"
    },
    {
     "name": "stdout",
     "output_type": "stream",
     "text": [
      "- Total errors: 24798\n"
     ]
    }
   ],
   "source": [
    "# Start of OUTER loop\n",
    "for YEAR in tqdm_notebook(YEARS_TO_GET, desc='YEARS', position=0):\n",
    "    # Defining the JSON file to store results for the year\n",
    "    JSON_FILE = f'{FOLDER}tmdb_api_results_{YEAR}.json'\n",
    "    \n",
    "    # Check if the file exists\n",
    "    file_exists = os.path.isfile(JSON_FILE)\n",
    "    \n",
    "    # If it does not exist: create it\n",
    "    if not file_exists:  # Simplified condition\n",
    "        # Save an empty dict with just \"imdb_id\" to the new json file.\n",
    "        with open(JSON_FILE, 'w') as f:\n",
    "            json.dump([{'imdb_id': 0}], f)\n",
    "\n",
    "    # Saving the new year as the current df\n",
    "    df = basics.loc[basics['startYear'] == YEAR].copy()\n",
    "    # Saving movie ids to list\n",
    "    movie_ids = df['tconst'].copy()\n",
    "\n",
    "    # Load existing data from json into a dataframe called \"previous_df\"\n",
    "    previous_df = pd.read_json(JSON_FILE)\n",
    "\n",
    "    # Filter out any ids that are already in the JSON_FILE\n",
    "    movie_ids_to_get = movie_ids[~movie_ids.isin(previous_df['imdb_id'])]\n",
    "\n",
    "# Get index and movie id from the list\n",
    "    # INNER Loop\n",
    "    for movie_id in tqdm_notebook(movie_ids_to_get,\n",
    "                                  desc=f'Movies from {YEAR}',\n",
    "                                  position=1,\n",
    "                                  leave=True):\n",
    "        try:\n",
    "            # Retrieve the data for the movie id\n",
    "            temp = get_movie_with_rating(movie_id)\n",
    "            # Append/extend results to the existing file using a pre-made function\n",
    "            write_json(temp, JSON_FILE)\n",
    "            # Short 20 ms sleep to prevent overwhelming the server\n",
    "            time.sleep(0.02)\n",
    "\n",
    "        except Exception as e:\n",
    "            errors.append([movie_id, e])\n",
    "\n",
    "    final_year_df = pd.read_json(JSON_FILE)\n",
    "    final_year_df.to_csv(f\"{FOLDER}final_tmdb_data_{YEAR}.csv.gz\", compression=\"gzip\", index=False)\n",
    "\n",
    "print(f\"- Total errors: {len(errors)}\")"
   ]
  },
  {
   "cell_type": "markdown",
   "id": "fceb76a1-4309-4313-83fd-56c093bbe9ec",
   "metadata": {},
   "source": [
    "## Updating the files"
   ]
  },
  {
   "cell_type": "code",
   "execution_count": 22,
   "id": "e1ec16ea-208c-4af0-a1ae-d57406285dc9",
   "metadata": {},
   "outputs": [
    {
     "data": {
      "text/plain": [
       "dict_keys(['api-key'])"
      ]
     },
     "execution_count": 22,
     "metadata": {},
     "output_type": "execute_result"
    }
   ],
   "source": [
    "import json\n",
    "with open(r'/Users/OM22285/.secret/tmdb_api.json') as f:\n",
    "    login = json.load(f)\n",
    "## Display the keys of the loaded dict\n",
    "login.keys()"
   ]
  },
  {
   "cell_type": "code",
   "execution_count": 23,
   "id": "14993550-0398-428b-8ea7-4b968f3d1656",
   "metadata": {},
   "outputs": [],
   "source": [
    "import tmdbsimple as tmdb\n",
    "tmdb.API_KEY = login['api-key']"
   ]
  },
  {
   "cell_type": "code",
   "execution_count": 24,
   "id": "ded2ddb0-ea8d-4d8f-9a0c-7739a95cecea",
   "metadata": {},
   "outputs": [],
   "source": [
    "## make a movie object using the .Movies function from tmdb\n",
    "movie = tmdb.Movies(603)"
   ]
  },
  {
   "cell_type": "code",
   "execution_count": 25,
   "id": "5a28bb7e-5206-43bc-8b8e-c571cefe1c71",
   "metadata": {},
   "outputs": [
    {
     "data": {
      "text/plain": [
       "{'adult': False,\n",
       " 'backdrop_path': '/oMsxZEvz9a708d49b6UdZK1KAo5.jpg',\n",
       " 'belongs_to_collection': {'id': 2344,\n",
       "  'name': 'The Matrix Collection',\n",
       "  'poster_path': '/bV9qTVHTVf0gkW0j7p7M0ILD4pG.jpg',\n",
       "  'backdrop_path': '/bRm2DEgUiYciDw3myHuYFInD7la.jpg'},\n",
       " 'budget': 63000000,\n",
       " 'genres': [{'id': 28, 'name': 'Action'},\n",
       "  {'id': 878, 'name': 'Science Fiction'}],\n",
       " 'homepage': 'http://www.warnerbros.com/matrix',\n",
       " 'id': 603,\n",
       " 'imdb_id': 'tt0133093',\n",
       " 'original_language': 'en',\n",
       " 'original_title': 'The Matrix',\n",
       " 'overview': 'Set in the 22nd century, The Matrix tells the story of a computer hacker who joins a group of underground insurgents fighting the vast and powerful computers who now rule the earth.',\n",
       " 'popularity': 79.245,\n",
       " 'poster_path': '/f89U3ADr1oiB1s9GkdPOEpXUk5H.jpg',\n",
       " 'production_companies': [{'id': 79,\n",
       "   'logo_path': '/tpFpsqbleCzEE2p5EgvUq6ozfCA.png',\n",
       "   'name': 'Village Roadshow Pictures',\n",
       "   'origin_country': 'US'},\n",
       "  {'id': 372,\n",
       "   'logo_path': None,\n",
       "   'name': 'Groucho II Film Partnership',\n",
       "   'origin_country': ''},\n",
       "  {'id': 1885,\n",
       "   'logo_path': '/xlvoOZr4s1PygosrwZyolIFe5xs.png',\n",
       "   'name': 'Silver Pictures',\n",
       "   'origin_country': 'US'},\n",
       "  {'id': 174,\n",
       "   'logo_path': '/IuAlhI9eVC9Z8UQWOIDdWRKSEJ.png',\n",
       "   'name': 'Warner Bros. Pictures',\n",
       "   'origin_country': 'US'}],\n",
       " 'production_countries': [{'iso_3166_1': 'US',\n",
       "   'name': 'United States of America'}],\n",
       " 'release_date': '1999-03-30',\n",
       " 'revenue': 463517383,\n",
       " 'runtime': 136,\n",
       " 'spoken_languages': [{'english_name': 'English',\n",
       "   'iso_639_1': 'en',\n",
       "   'name': 'English'}],\n",
       " 'status': 'Released',\n",
       " 'tagline': 'Welcome to the Real World.',\n",
       " 'title': 'The Matrix',\n",
       " 'video': False,\n",
       " 'vote_average': 8.207,\n",
       " 'vote_count': 24008}"
      ]
     },
     "execution_count": 25,
     "metadata": {},
     "output_type": "execute_result"
    }
   ],
   "source": [
    "info = movie.info()\n",
    "info"
   ]
  },
  {
   "cell_type": "code",
   "execution_count": null,
   "id": "01dce36e-471a-4d22-a98d-82e03898081a",
   "metadata": {},
   "outputs": [],
   "source": []
  }
 ],
 "metadata": {
  "kernelspec": {
   "display_name": "Python (dojo-env)",
   "language": "python",
   "name": "dojo-env"
  },
  "language_info": {
   "codemirror_mode": {
    "name": "ipython",
    "version": 3
   },
   "file_extension": ".py",
   "mimetype": "text/x-python",
   "name": "python",
   "nbconvert_exporter": "python",
   "pygments_lexer": "ipython3",
   "version": "3.10.10"
  },
  "widgets": {
   "application/vnd.jupyter.widget-state+json": {
    "state": {
     "00094c7026854b4f8f50461bbfd6e6fc": {
      "model_module": "@jupyter-widgets/controls",
      "model_module_version": "2.0.0",
      "model_name": "ProgressStyleModel",
      "state": {
       "description_width": ""
      }
     },
     "02b079bd41674846a7c8f63e22e4c8f0": {
      "model_module": "@jupyter-widgets/base",
      "model_module_version": "2.0.0",
      "model_name": "LayoutModel",
      "state": {}
     },
     "09bcd4cd8c08466ab9a2de511ef06376": {
      "model_module": "@jupyter-widgets/controls",
      "model_module_version": "2.0.0",
      "model_name": "HBoxModel",
      "state": {
       "children": [
        "IPY_MODEL_e391bb5f26154f9ab20a1c96bf6864d6",
        "IPY_MODEL_46fec0d75e254afa881c513d44ca19c3",
        "IPY_MODEL_33e041dc607e439bb143b7009db81373"
       ],
       "layout": "IPY_MODEL_8532d06ea7db49209c54ae9ffdf61bae"
      }
     },
     "0af487503df745628ea725816e9690fc": {
      "model_module": "@jupyter-widgets/controls",
      "model_module_version": "2.0.0",
      "model_name": "FloatProgressModel",
      "state": {
       "bar_style": "success",
       "layout": "IPY_MODEL_d602dcd3af8b4a7c9aed6633a8eaa5f2",
       "max": 11986,
       "style": "IPY_MODEL_00094c7026854b4f8f50461bbfd6e6fc",
       "value": 11986
      }
     },
     "0b99acb95a8449998d9084850f818910": {
      "model_module": "@jupyter-widgets/base",
      "model_module_version": "2.0.0",
      "model_name": "LayoutModel",
      "state": {}
     },
     "120df0b95de74f9f8bad95963812fab6": {
      "model_module": "@jupyter-widgets/controls",
      "model_module_version": "2.0.0",
      "model_name": "HTMLStyleModel",
      "state": {
       "description_width": "",
       "font_size": null,
       "text_color": null
      }
     },
     "1ae6c025db13456bb37fcc34798a9e1f": {
      "model_module": "@jupyter-widgets/controls",
      "model_module_version": "2.0.0",
      "model_name": "HTMLModel",
      "state": {
       "layout": "IPY_MODEL_b1f1cef7aea3432d9e7d7c34192564dd",
       "style": "IPY_MODEL_7f265f4eb09740f5919082a88bb5bc4c",
       "value": " 12812/12812 [00:00&lt;00:00, 38515.35it/s]"
      }
     },
     "20de8d9e5e294bddb8aa2714bca08859": {
      "model_module": "@jupyter-widgets/controls",
      "model_module_version": "2.0.0",
      "model_name": "HTMLStyleModel",
      "state": {
       "description_width": "",
       "font_size": null,
       "text_color": null
      }
     },
     "24198b0a5d5849d8ba015ff077ee4b2c": {
      "model_module": "@jupyter-widgets/controls",
      "model_module_version": "2.0.0",
      "model_name": "HTMLStyleModel",
      "state": {
       "description_width": "",
       "font_size": null,
       "text_color": null
      }
     },
     "244e07d95b6646cc8c70f11f67a313af": {
      "model_module": "@jupyter-widgets/controls",
      "model_module_version": "2.0.0",
      "model_name": "FloatProgressModel",
      "state": {
       "bar_style": "success",
       "layout": "IPY_MODEL_3c924a22f5574ef38f41871f9e0ed399",
       "max": 11986,
       "style": "IPY_MODEL_8db2f422f3b945a6ab940c8812f5d12d",
       "value": 11986
      }
     },
     "2cf46318c0b7410399b30784dac8fe5d": {
      "model_module": "@jupyter-widgets/base",
      "model_module_version": "2.0.0",
      "model_name": "LayoutModel",
      "state": {}
     },
     "2ff2dc354e014b298cb36bfc815ee547": {
      "model_module": "@jupyter-widgets/controls",
      "model_module_version": "2.0.0",
      "model_name": "HTMLModel",
      "state": {
       "layout": "IPY_MODEL_41afd8a11c6f49779d721fa53991d54f",
       "style": "IPY_MODEL_387865cc910840e4a57bc127713c914e",
       "value": " 2/2 [00:00&lt;00:00,  2.76it/s]"
      }
     },
     "319bb11d814a4d83b9d6a7b3e4890859": {
      "model_module": "@jupyter-widgets/controls",
      "model_module_version": "2.0.0",
      "model_name": "ProgressStyleModel",
      "state": {
       "description_width": ""
      }
     },
     "32554daf2d344fca91228f802aab1539": {
      "model_module": "@jupyter-widgets/base",
      "model_module_version": "2.0.0",
      "model_name": "LayoutModel",
      "state": {}
     },
     "33a335daef3c4e33ac5595e2e3776bd3": {
      "model_module": "@jupyter-widgets/controls",
      "model_module_version": "2.0.0",
      "model_name": "HTMLModel",
      "state": {
       "layout": "IPY_MODEL_33c5c88097454201b8e128613963b42c",
       "style": "IPY_MODEL_a75a0d3557644500a61468c2746dcdd8",
       "value": " 12812/12812 [00:00&lt;00:00, 31740.38it/s]"
      }
     },
     "33c5c88097454201b8e128613963b42c": {
      "model_module": "@jupyter-widgets/base",
      "model_module_version": "2.0.0",
      "model_name": "LayoutModel",
      "state": {}
     },
     "33e041dc607e439bb143b7009db81373": {
      "model_module": "@jupyter-widgets/controls",
      "model_module_version": "2.0.0",
      "model_name": "HTMLModel",
      "state": {
       "layout": "IPY_MODEL_9c56a9fa3e684c9d89c9d71ac3049797",
       "style": "IPY_MODEL_71dc4ac4c1f149be894219f757988a53",
       "value": " 0/2 [00:00&lt;?, ?it/s]"
      }
     },
     "387865cc910840e4a57bc127713c914e": {
      "model_module": "@jupyter-widgets/controls",
      "model_module_version": "2.0.0",
      "model_name": "HTMLStyleModel",
      "state": {
       "description_width": "",
       "font_size": null,
       "text_color": null
      }
     },
     "3c924a22f5574ef38f41871f9e0ed399": {
      "model_module": "@jupyter-widgets/base",
      "model_module_version": "2.0.0",
      "model_name": "LayoutModel",
      "state": {}
     },
     "416b3ddcf7384e23b651b566ab4f7bde": {
      "model_module": "@jupyter-widgets/base",
      "model_module_version": "2.0.0",
      "model_name": "LayoutModel",
      "state": {}
     },
     "41afd8a11c6f49779d721fa53991d54f": {
      "model_module": "@jupyter-widgets/base",
      "model_module_version": "2.0.0",
      "model_name": "LayoutModel",
      "state": {}
     },
     "46fec0d75e254afa881c513d44ca19c3": {
      "model_module": "@jupyter-widgets/controls",
      "model_module_version": "2.0.0",
      "model_name": "FloatProgressModel",
      "state": {
       "bar_style": "danger",
       "layout": "IPY_MODEL_4c64b88265304f209356553027b01965",
       "max": 2,
       "style": "IPY_MODEL_d2edf58755774135a707e7d61ad582c9"
      }
     },
     "49b2cf50a4bb4ff58d65b5178f26a132": {
      "model_module": "@jupyter-widgets/controls",
      "model_module_version": "2.0.0",
      "model_name": "FloatProgressModel",
      "state": {
       "bar_style": "success",
       "layout": "IPY_MODEL_cbe8e27c907548e4b87fd130f21472d8",
       "max": 2,
       "style": "IPY_MODEL_e3eb634d754b4abab0f7b67fc4779f43",
       "value": 2
      }
     },
     "4a17e9d1b56942c19dd56f38bd7a5135": {
      "model_module": "@jupyter-widgets/controls",
      "model_module_version": "2.0.0",
      "model_name": "ProgressStyleModel",
      "state": {
       "description_width": ""
      }
     },
     "4b9f79fe955d4afe84699f57e8ef6e59": {
      "model_module": "@jupyter-widgets/controls",
      "model_module_version": "2.0.0",
      "model_name": "HTMLModel",
      "state": {
       "layout": "IPY_MODEL_d91aa34afb49469ba3009a87ac32ca46",
       "style": "IPY_MODEL_20de8d9e5e294bddb8aa2714bca08859",
       "value": " 11986/11986 [00:00&lt;00:00, 39957.56it/s]"
      }
     },
     "4c64b88265304f209356553027b01965": {
      "model_module": "@jupyter-widgets/base",
      "model_module_version": "2.0.0",
      "model_name": "LayoutModel",
      "state": {}
     },
     "50db0dfc1c99478299e7c28a65a721b4": {
      "model_module": "@jupyter-widgets/base",
      "model_module_version": "2.0.0",
      "model_name": "LayoutModel",
      "state": {}
     },
     "513a8d50061d424c92943c714c196420": {
      "model_module": "@jupyter-widgets/base",
      "model_module_version": "2.0.0",
      "model_name": "LayoutModel",
      "state": {}
     },
     "5eb5732035bd45db972e4846bd4085e5": {
      "model_module": "@jupyter-widgets/controls",
      "model_module_version": "2.0.0",
      "model_name": "ProgressStyleModel",
      "state": {
       "description_width": ""
      }
     },
     "650225ef78044c629ba3456f7f2c9acc": {
      "model_module": "@jupyter-widgets/controls",
      "model_module_version": "2.0.0",
      "model_name": "HBoxModel",
      "state": {
       "children": [
        "IPY_MODEL_b758da46696a4e938dc150f305e0be98",
        "IPY_MODEL_b5fe0e6016994d0093d8e91b9240268c",
        "IPY_MODEL_2ff2dc354e014b298cb36bfc815ee547"
       ],
       "layout": "IPY_MODEL_416b3ddcf7384e23b651b566ab4f7bde"
      }
     },
     "67c0da376b454af082c41e5a01c692f3": {
      "model_module": "@jupyter-widgets/base",
      "model_module_version": "2.0.0",
      "model_name": "LayoutModel",
      "state": {}
     },
     "6cc3354ddbec474480250ed27b356fa2": {
      "model_module": "@jupyter-widgets/controls",
      "model_module_version": "2.0.0",
      "model_name": "HTMLModel",
      "state": {
       "layout": "IPY_MODEL_0b99acb95a8449998d9084850f818910",
       "style": "IPY_MODEL_fd81ed24b0c441f4a97b6be733a7e961",
       "value": "YEARS: 100%"
      }
     },
     "6e3bf3c37b8d4c3ba2fac648bdca4a22": {
      "model_module": "@jupyter-widgets/controls",
      "model_module_version": "2.0.0",
      "model_name": "HTMLStyleModel",
      "state": {
       "description_width": "",
       "font_size": null,
       "text_color": null
      }
     },
     "706bf6e20b4e4212a950a72ef66f7933": {
      "model_module": "@jupyter-widgets/controls",
      "model_module_version": "2.0.0",
      "model_name": "HTMLStyleModel",
      "state": {
       "description_width": "",
       "font_size": null,
       "text_color": null
      }
     },
     "71dc4ac4c1f149be894219f757988a53": {
      "model_module": "@jupyter-widgets/controls",
      "model_module_version": "2.0.0",
      "model_name": "HTMLStyleModel",
      "state": {
       "description_width": "",
       "font_size": null,
       "text_color": null
      }
     },
     "786e155f10754e92ba5ebba4a894fde8": {
      "model_module": "@jupyter-widgets/base",
      "model_module_version": "2.0.0",
      "model_name": "LayoutModel",
      "state": {}
     },
     "7db1269c56e84907aecb12829132ecc2": {
      "model_module": "@jupyter-widgets/controls",
      "model_module_version": "2.0.0",
      "model_name": "FloatProgressModel",
      "state": {
       "bar_style": "success",
       "layout": "IPY_MODEL_ee9d74e0bb8740dfbb3f5bba84256c19",
       "max": 12812,
       "style": "IPY_MODEL_5eb5732035bd45db972e4846bd4085e5",
       "value": 12812
      }
     },
     "7f265f4eb09740f5919082a88bb5bc4c": {
      "model_module": "@jupyter-widgets/controls",
      "model_module_version": "2.0.0",
      "model_name": "HTMLStyleModel",
      "state": {
       "description_width": "",
       "font_size": null,
       "text_color": null
      }
     },
     "83b0bf373e3041a587a48f6d1b68becd": {
      "model_module": "@jupyter-widgets/controls",
      "model_module_version": "2.0.0",
      "model_name": "HTMLModel",
      "state": {
       "layout": "IPY_MODEL_50db0dfc1c99478299e7c28a65a721b4",
       "style": "IPY_MODEL_c03633d748194676a4d67ae6be80119c",
       "value": "Movies from 2000: 100%"
      }
     },
     "84cd0797f5434ca98d92304f130671e5": {
      "model_module": "@jupyter-widgets/controls",
      "model_module_version": "2.0.0",
      "model_name": "HTMLModel",
      "state": {
       "layout": "IPY_MODEL_32554daf2d344fca91228f802aab1539",
       "style": "IPY_MODEL_706bf6e20b4e4212a950a72ef66f7933",
       "value": "Movies from 2001: 100%"
      }
     },
     "8532d06ea7db49209c54ae9ffdf61bae": {
      "model_module": "@jupyter-widgets/base",
      "model_module_version": "2.0.0",
      "model_name": "LayoutModel",
      "state": {}
     },
     "8a4835ccb0e540cc9d784d3d2e081b42": {
      "model_module": "@jupyter-widgets/controls",
      "model_module_version": "2.0.0",
      "model_name": "HTMLStyleModel",
      "state": {
       "description_width": "",
       "font_size": null,
       "text_color": null
      }
     },
     "8b460dd268a64d3a842967937f92286a": {
      "model_module": "@jupyter-widgets/controls",
      "model_module_version": "2.0.0",
      "model_name": "HBoxModel",
      "state": {
       "children": [
        "IPY_MODEL_6cc3354ddbec474480250ed27b356fa2",
        "IPY_MODEL_49b2cf50a4bb4ff58d65b5178f26a132",
        "IPY_MODEL_9e03c55fd11a4fe4af7e9cf166af03bc"
       ],
       "layout": "IPY_MODEL_2cf46318c0b7410399b30784dac8fe5d"
      }
     },
     "8db2f422f3b945a6ab940c8812f5d12d": {
      "model_module": "@jupyter-widgets/controls",
      "model_module_version": "2.0.0",
      "model_name": "ProgressStyleModel",
      "state": {
       "description_width": ""
      }
     },
     "9c56a9fa3e684c9d89c9d71ac3049797": {
      "model_module": "@jupyter-widgets/base",
      "model_module_version": "2.0.0",
      "model_name": "LayoutModel",
      "state": {}
     },
     "9dc66527c3394c2f823022d8501982af": {
      "model_module": "@jupyter-widgets/base",
      "model_module_version": "2.0.0",
      "model_name": "LayoutModel",
      "state": {}
     },
     "9e03c55fd11a4fe4af7e9cf166af03bc": {
      "model_module": "@jupyter-widgets/controls",
      "model_module_version": "2.0.0",
      "model_name": "HTMLModel",
      "state": {
       "layout": "IPY_MODEL_786e155f10754e92ba5ebba4a894fde8",
       "style": "IPY_MODEL_d81185e955a245ef993b91fef4a0d93f",
       "value": " 2/2 [00:00&lt;00:00,  2.91it/s]"
      }
     },
     "a75a0d3557644500a61468c2746dcdd8": {
      "model_module": "@jupyter-widgets/controls",
      "model_module_version": "2.0.0",
      "model_name": "HTMLStyleModel",
      "state": {
       "description_width": "",
       "font_size": null,
       "text_color": null
      }
     },
     "ab988a741b6d42aaab3405f323ac3a37": {
      "model_module": "@jupyter-widgets/controls",
      "model_module_version": "2.0.0",
      "model_name": "HTMLModel",
      "state": {
       "layout": "IPY_MODEL_fe7ea7ccb7424586b10886bb1b7574b5",
       "style": "IPY_MODEL_24198b0a5d5849d8ba015ff077ee4b2c",
       "value": "Movies from 2000: 100%"
      }
     },
     "afdb4ad836b24a35a6bde3f3022972f2": {
      "model_module": "@jupyter-widgets/controls",
      "model_module_version": "2.0.0",
      "model_name": "HTMLStyleModel",
      "state": {
       "description_width": "",
       "font_size": null,
       "text_color": null
      }
     },
     "b10d4f2ae1b54c0ba47459a646bc6819": {
      "model_module": "@jupyter-widgets/controls",
      "model_module_version": "2.0.0",
      "model_name": "HBoxModel",
      "state": {
       "children": [
        "IPY_MODEL_83b0bf373e3041a587a48f6d1b68becd",
        "IPY_MODEL_244e07d95b6646cc8c70f11f67a313af",
        "IPY_MODEL_b1a358dde4494ee68d507e6878aab5a6"
       ],
       "layout": "IPY_MODEL_cbf5d8b4ac8644e68a775a5bad53a2db"
      }
     },
     "b1a358dde4494ee68d507e6878aab5a6": {
      "model_module": "@jupyter-widgets/controls",
      "model_module_version": "2.0.0",
      "model_name": "HTMLModel",
      "state": {
       "layout": "IPY_MODEL_f96fb5de7f5b4cf98385e4770b8a1ccd",
       "style": "IPY_MODEL_6e3bf3c37b8d4c3ba2fac648bdca4a22",
       "value": " 11986/11986 [00:00&lt;00:00, 46604.65it/s]"
      }
     },
     "b1f1cef7aea3432d9e7d7c34192564dd": {
      "model_module": "@jupyter-widgets/base",
      "model_module_version": "2.0.0",
      "model_name": "LayoutModel",
      "state": {}
     },
     "b5fe0e6016994d0093d8e91b9240268c": {
      "model_module": "@jupyter-widgets/controls",
      "model_module_version": "2.0.0",
      "model_name": "FloatProgressModel",
      "state": {
       "bar_style": "success",
       "layout": "IPY_MODEL_513a8d50061d424c92943c714c196420",
       "max": 2,
       "style": "IPY_MODEL_319bb11d814a4d83b9d6a7b3e4890859",
       "value": 2
      }
     },
     "b758da46696a4e938dc150f305e0be98": {
      "model_module": "@jupyter-widgets/controls",
      "model_module_version": "2.0.0",
      "model_name": "HTMLModel",
      "state": {
       "layout": "IPY_MODEL_67c0da376b454af082c41e5a01c692f3",
       "style": "IPY_MODEL_afdb4ad836b24a35a6bde3f3022972f2",
       "value": "YEARS: 100%"
      }
     },
     "c03633d748194676a4d67ae6be80119c": {
      "model_module": "@jupyter-widgets/controls",
      "model_module_version": "2.0.0",
      "model_name": "HTMLStyleModel",
      "state": {
       "description_width": "",
       "font_size": null,
       "text_color": null
      }
     },
     "c047be0bd92f4bfd910c7d016a9043de": {
      "model_module": "@jupyter-widgets/base",
      "model_module_version": "2.0.0",
      "model_name": "LayoutModel",
      "state": {}
     },
     "c6f753bd74be453da9f91e01f2787d83": {
      "model_module": "@jupyter-widgets/controls",
      "model_module_version": "2.0.0",
      "model_name": "HTMLModel",
      "state": {
       "layout": "IPY_MODEL_de0942f2e60248f1a8bd5b814a589bd6",
       "style": "IPY_MODEL_8a4835ccb0e540cc9d784d3d2e081b42",
       "value": "Movies from 2001: 100%"
      }
     },
     "cbe8e27c907548e4b87fd130f21472d8": {
      "model_module": "@jupyter-widgets/base",
      "model_module_version": "2.0.0",
      "model_name": "LayoutModel",
      "state": {}
     },
     "cbf5d8b4ac8644e68a775a5bad53a2db": {
      "model_module": "@jupyter-widgets/base",
      "model_module_version": "2.0.0",
      "model_name": "LayoutModel",
      "state": {}
     },
     "cf0e6ef3911b43dbbbabcad4176468bf": {
      "model_module": "@jupyter-widgets/controls",
      "model_module_version": "2.0.0",
      "model_name": "HBoxModel",
      "state": {
       "children": [
        "IPY_MODEL_ab988a741b6d42aaab3405f323ac3a37",
        "IPY_MODEL_0af487503df745628ea725816e9690fc",
        "IPY_MODEL_4b9f79fe955d4afe84699f57e8ef6e59"
       ],
       "layout": "IPY_MODEL_c047be0bd92f4bfd910c7d016a9043de"
      }
     },
     "cf488d83e0404008a01e68d49aeb0b54": {
      "model_module": "@jupyter-widgets/base",
      "model_module_version": "2.0.0",
      "model_name": "LayoutModel",
      "state": {}
     },
     "d2edf58755774135a707e7d61ad582c9": {
      "model_module": "@jupyter-widgets/controls",
      "model_module_version": "2.0.0",
      "model_name": "ProgressStyleModel",
      "state": {
       "description_width": ""
      }
     },
     "d5230d5e33e84380ac6355812ce60acd": {
      "model_module": "@jupyter-widgets/controls",
      "model_module_version": "2.0.0",
      "model_name": "FloatProgressModel",
      "state": {
       "bar_style": "success",
       "layout": "IPY_MODEL_02b079bd41674846a7c8f63e22e4c8f0",
       "max": 12812,
       "style": "IPY_MODEL_4a17e9d1b56942c19dd56f38bd7a5135",
       "value": 12812
      }
     },
     "d602dcd3af8b4a7c9aed6633a8eaa5f2": {
      "model_module": "@jupyter-widgets/base",
      "model_module_version": "2.0.0",
      "model_name": "LayoutModel",
      "state": {}
     },
     "d81185e955a245ef993b91fef4a0d93f": {
      "model_module": "@jupyter-widgets/controls",
      "model_module_version": "2.0.0",
      "model_name": "HTMLStyleModel",
      "state": {
       "description_width": "",
       "font_size": null,
       "text_color": null
      }
     },
     "d91aa34afb49469ba3009a87ac32ca46": {
      "model_module": "@jupyter-widgets/base",
      "model_module_version": "2.0.0",
      "model_name": "LayoutModel",
      "state": {}
     },
     "ddf593cb4d11467a81c0a85053ff64a5": {
      "model_module": "@jupyter-widgets/base",
      "model_module_version": "2.0.0",
      "model_name": "LayoutModel",
      "state": {}
     },
     "de0942f2e60248f1a8bd5b814a589bd6": {
      "model_module": "@jupyter-widgets/base",
      "model_module_version": "2.0.0",
      "model_name": "LayoutModel",
      "state": {}
     },
     "e391bb5f26154f9ab20a1c96bf6864d6": {
      "model_module": "@jupyter-widgets/controls",
      "model_module_version": "2.0.0",
      "model_name": "HTMLModel",
      "state": {
       "layout": "IPY_MODEL_cf488d83e0404008a01e68d49aeb0b54",
       "style": "IPY_MODEL_120df0b95de74f9f8bad95963812fab6",
       "value": "YEARS:   0%"
      }
     },
     "e3eb634d754b4abab0f7b67fc4779f43": {
      "model_module": "@jupyter-widgets/controls",
      "model_module_version": "2.0.0",
      "model_name": "ProgressStyleModel",
      "state": {
       "description_width": ""
      }
     },
     "ea3aa868308645e48e14dd355ae35502": {
      "model_module": "@jupyter-widgets/controls",
      "model_module_version": "2.0.0",
      "model_name": "HBoxModel",
      "state": {
       "children": [
        "IPY_MODEL_84cd0797f5434ca98d92304f130671e5",
        "IPY_MODEL_7db1269c56e84907aecb12829132ecc2",
        "IPY_MODEL_1ae6c025db13456bb37fcc34798a9e1f"
       ],
       "layout": "IPY_MODEL_ddf593cb4d11467a81c0a85053ff64a5"
      }
     },
     "ee9d74e0bb8740dfbb3f5bba84256c19": {
      "model_module": "@jupyter-widgets/base",
      "model_module_version": "2.0.0",
      "model_name": "LayoutModel",
      "state": {}
     },
     "f8f49b04a0e34e67984d23a358bd96f1": {
      "model_module": "@jupyter-widgets/controls",
      "model_module_version": "2.0.0",
      "model_name": "HBoxModel",
      "state": {
       "children": [
        "IPY_MODEL_c6f753bd74be453da9f91e01f2787d83",
        "IPY_MODEL_d5230d5e33e84380ac6355812ce60acd",
        "IPY_MODEL_33a335daef3c4e33ac5595e2e3776bd3"
       ],
       "layout": "IPY_MODEL_9dc66527c3394c2f823022d8501982af"
      }
     },
     "f96fb5de7f5b4cf98385e4770b8a1ccd": {
      "model_module": "@jupyter-widgets/base",
      "model_module_version": "2.0.0",
      "model_name": "LayoutModel",
      "state": {}
     },
     "fd81ed24b0c441f4a97b6be733a7e961": {
      "model_module": "@jupyter-widgets/controls",
      "model_module_version": "2.0.0",
      "model_name": "HTMLStyleModel",
      "state": {
       "description_width": "",
       "font_size": null,
       "text_color": null
      }
     },
     "fe7ea7ccb7424586b10886bb1b7574b5": {
      "model_module": "@jupyter-widgets/base",
      "model_module_version": "2.0.0",
      "model_name": "LayoutModel",
      "state": {}
     }
    },
    "version_major": 2,
    "version_minor": 0
   }
  }
 },
 "nbformat": 4,
 "nbformat_minor": 5
}
