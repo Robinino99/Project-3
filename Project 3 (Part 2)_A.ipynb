{
 "cells": [
  {
   "cell_type": "markdown",
   "id": "e7edf104-c9ae-49b0-95fc-1426824811eb",
   "metadata": {},
   "source": [
    "# Project 3 (Part 2)_A"
   ]
  },
  {
   "cell_type": "markdown",
   "id": "30e35a8b-f246-4827-afff-229890a7e26b",
   "metadata": {},
   "source": [
    "## Import Libraries"
   ]
  },
  {
   "cell_type": "code",
   "execution_count": 3,
   "id": "fbaa0ffa-3665-4f3e-8bed-c1dd584c9706",
   "metadata": {},
   "outputs": [
    {
     "data": {
      "text/plain": [
       "[]"
      ]
     },
     "execution_count": 3,
     "metadata": {},
     "output_type": "execute_result"
    }
   ],
   "source": [
    "# Standard Imports\n",
    "import numpy as np\n",
    "import pandas as pd\n",
    "import matplotlib.pyplot as plt\n",
    "import seaborn as sns\n",
    "\n",
    "# Additional Imports\n",
    "# os - for saving and loading files\n",
    "# json - to work with json files\n",
    "# math - to round up results\n",
    "# time - to add a short pause to not overwhelm the server\n",
    "import os, json, math, time\n",
    "from tqdm.notebook import tqdm_notebook\n",
    "import tmdbsimple as tmdb \n",
    "FOLDER = r\"C:\\Users\\om22285\\OneDrive - Old Mutual\\Documents\\Employee Performance\\2023\\Umluzi Data Science Bootcamp\\Coding Dojo Environment\\Project-3\\Data\\Movies\"\n",
    "os.makedirs(FOLDER, exist_ok=True)\n",
    "os.listdir(FOLDER)\n"
   ]
  },
  {
   "cell_type": "markdown",
   "id": "1846ddd6-b5e8-49e8-b5f0-9fa6e60a667a",
   "metadata": {},
   "source": [
    "## Custom Functions"
   ]
  },
  {
   "cell_type": "code",
   "execution_count": 4,
   "id": "03441b3c-2c79-449a-a472-f2d604052d2e",
   "metadata": {},
   "outputs": [],
   "source": [
    "# Custom function to write \n",
    "def write_json(new_data, filename): \n",
    "    \"\"\"Appends a list of records (new_data) to a json file (filename). \n",
    "    Adapted from: https://www.geeksforgeeks.org/append-to-json-file-using-python/\"\"\"  \n",
    "    \n",
    "    with open(filename,'r+') as file:\n",
    "        # First we load existing data into a dict.\n",
    "        file_data = json.load(file)\n",
    "        ## Choose extend or append\n",
    "        if (type(new_data) == list) & (type(file_data) == list):\n",
    "            file_data.extend(new_data)\n",
    "        else:\n",
    "             file_data.append(new_data)\n",
    "        # Sets file's current position at offset.\n",
    "        file.seek(0)\n",
    "        # convert back to json.\n",
    "        json.dump(file_data, file)"
   ]
  },
  {
   "cell_type": "code",
   "execution_count": 5,
   "id": "2cfcf190-7da7-4eab-b6f3-542cfaf2a83d",
   "metadata": {},
   "outputs": [],
   "source": [
    "# Get movie rating details\n",
    "def get_movie_with_rating(movie_id):\n",
    "    \"\"\"Adapted from source = https://github.com/celiao/tmdbsimple\"\"\"\n",
    "    # Get the movie object for the current id\n",
    "    movie = tmdb.Movies(movie_id)\n",
    "\n",
    "    # save the .info .release dictionaries\n",
    "    info = movie.info()\n",
    "\n",
    "    releases = movie.releases()\n",
    "    # Loop through the countries in releases\n",
    "    for c in releases['countries']:\n",
    "        # if the country abbreviation==US\n",
    "        if c['iso_3166_1'] =='US':\n",
    "            ## save a \"certification\" key in info with the certification\n",
    "            info['certification'] = c['certification']\n",
    "    return info"
   ]
  },
  {
   "cell_type": "code",
   "execution_count": 6,
   "id": "b30d2d32-cdec-45db-abbc-2120f49fb9e7",
   "metadata": {},
   "outputs": [
    {
     "data": {
      "text/html": [
       "<div>\n",
       "<style scoped>\n",
       "    .dataframe tbody tr th:only-of-type {\n",
       "        vertical-align: middle;\n",
       "    }\n",
       "\n",
       "    .dataframe tbody tr th {\n",
       "        vertical-align: top;\n",
       "    }\n",
       "\n",
       "    .dataframe thead th {\n",
       "        text-align: right;\n",
       "    }\n",
       "</style>\n",
       "<table border=\"1\" class=\"dataframe\">\n",
       "  <thead>\n",
       "    <tr style=\"text-align: right;\">\n",
       "      <th></th>\n",
       "      <th>tconst</th>\n",
       "      <th>titleType</th>\n",
       "      <th>primaryTitle</th>\n",
       "      <th>originalTitle</th>\n",
       "      <th>isAdult</th>\n",
       "      <th>startYear</th>\n",
       "      <th>endYear</th>\n",
       "      <th>runtimeMinutes</th>\n",
       "      <th>genres</th>\n",
       "    </tr>\n",
       "  </thead>\n",
       "  <tbody>\n",
       "    <tr>\n",
       "      <th>0</th>\n",
       "      <td>tt0034413</td>\n",
       "      <td>short</td>\n",
       "      <td>Youth Gets a Break</td>\n",
       "      <td>Youth Gets a Break</td>\n",
       "      <td>0</td>\n",
       "      <td>2001</td>\n",
       "      <td>NaN</td>\n",
       "      <td>20.0</td>\n",
       "      <td>Short</td>\n",
       "    </tr>\n",
       "    <tr>\n",
       "      <th>1</th>\n",
       "      <td>tt0035423</td>\n",
       "      <td>movie</td>\n",
       "      <td>Kate &amp; Leopold</td>\n",
       "      <td>Kate &amp; Leopold</td>\n",
       "      <td>0</td>\n",
       "      <td>2001</td>\n",
       "      <td>NaN</td>\n",
       "      <td>118.0</td>\n",
       "      <td>Comedy,Fantasy,Romance</td>\n",
       "    </tr>\n",
       "    <tr>\n",
       "      <th>2</th>\n",
       "      <td>tt0111056</td>\n",
       "      <td>tvSeries</td>\n",
       "      <td>Gensomaden Saiyuki</td>\n",
       "      <td>Gensomaden Saiyuki</td>\n",
       "      <td>0</td>\n",
       "      <td>2000</td>\n",
       "      <td>2001.0</td>\n",
       "      <td>23.0</td>\n",
       "      <td>Action,Adventure,Animation</td>\n",
       "    </tr>\n",
       "    <tr>\n",
       "      <th>3</th>\n",
       "      <td>tt0113026</td>\n",
       "      <td>movie</td>\n",
       "      <td>The Fantasticks</td>\n",
       "      <td>The Fantasticks</td>\n",
       "      <td>0</td>\n",
       "      <td>2000</td>\n",
       "      <td>NaN</td>\n",
       "      <td>86.0</td>\n",
       "      <td>Musical,Romance</td>\n",
       "    </tr>\n",
       "    <tr>\n",
       "      <th>4</th>\n",
       "      <td>tt0113092</td>\n",
       "      <td>movie</td>\n",
       "      <td>For the Cause</td>\n",
       "      <td>For the Cause</td>\n",
       "      <td>0</td>\n",
       "      <td>2000</td>\n",
       "      <td>NaN</td>\n",
       "      <td>100.0</td>\n",
       "      <td>Action,Adventure,Drama</td>\n",
       "    </tr>\n",
       "  </tbody>\n",
       "</table>\n",
       "</div>"
      ],
      "text/plain": [
       "      tconst titleType        primaryTitle       originalTitle  isAdult  \\\n",
       "0  tt0034413     short  Youth Gets a Break  Youth Gets a Break        0   \n",
       "1  tt0035423     movie      Kate & Leopold      Kate & Leopold        0   \n",
       "2  tt0111056  tvSeries  Gensomaden Saiyuki  Gensomaden Saiyuki        0   \n",
       "3  tt0113026     movie     The Fantasticks     The Fantasticks        0   \n",
       "4  tt0113092     movie       For the Cause       For the Cause        0   \n",
       "\n",
       "   startYear  endYear  runtimeMinutes                      genres  \n",
       "0       2001      NaN            20.0                       Short  \n",
       "1       2001      NaN           118.0      Comedy,Fantasy,Romance  \n",
       "2       2000   2001.0            23.0  Action,Adventure,Animation  \n",
       "3       2000      NaN            86.0             Musical,Romance  \n",
       "4       2000      NaN           100.0      Action,Adventure,Drama  "
      ]
     },
     "execution_count": 6,
     "metadata": {},
     "output_type": "execute_result"
    }
   ],
   "source": [
    "# Load in the dataframe from project part 1 as basics:\n",
    "basics = pd.read_csv('Data/title_basics.csv.gz')\n",
    "\n",
    "# Display the first 5 rows to confirm title_basics has loaded into the dataframe\n",
    "basics.head(5)"
   ]
  },
  {
   "cell_type": "code",
   "execution_count": 7,
   "id": "ed61aff9-135b-4704-b48f-9aca0df91237",
   "metadata": {},
   "outputs": [],
   "source": [
    "# Define variables\n",
    "\n",
    "# Years to get (2000 and 2001)\n",
    "YEARS_TO_GET = [2000, 2001]\n",
    "\n",
    "# Error list\n",
    "errors = []"
   ]
  },
  {
   "cell_type": "code",
   "execution_count": 8,
   "id": "da102303-abca-49a4-9df6-f57a25a18688",
   "metadata": {},
   "outputs": [
    {
     "data": {
      "application/vnd.jupyter.widget-view+json": {
       "model_id": "032b27e0a9e844deb267c4bdd7bf291b",
       "version_major": 2,
       "version_minor": 0
      },
      "text/plain": [
       "YEARS:   0%|          | 0/2 [00:00<?, ?it/s]"
      ]
     },
     "metadata": {},
     "output_type": "display_data"
    },
    {
     "data": {
      "application/vnd.jupyter.widget-view+json": {
       "model_id": "7a1a562f8d264b32829aa80bc1924c67",
       "version_major": 2,
       "version_minor": 0
      },
      "text/plain": [
       "Movies from 2000:   0%|          | 0/11986 [00:00<?, ?it/s]"
      ]
     },
     "metadata": {},
     "output_type": "display_data"
    },
    {
     "data": {
      "application/vnd.jupyter.widget-view+json": {
       "model_id": "a2d3f4c9cf414b06b9a2d0054c7f2e76",
       "version_major": 2,
       "version_minor": 0
      },
      "text/plain": [
       "Movies from 2001:   0%|          | 0/12812 [00:00<?, ?it/s]"
      ]
     },
     "metadata": {},
     "output_type": "display_data"
    },
    {
     "name": "stdout",
     "output_type": "stream",
     "text": [
      "- Total errors: 24798\n"
     ]
    }
   ],
   "source": [
    "# Start of OUTER loop\n",
    "for YEAR in tqdm_notebook(YEARS_TO_GET, desc='YEARS', position=0):\n",
    "    # Defining the JSON file to store results for the year\n",
    "    JSON_FILE = f'{FOLDER}tmdb_api_results_{YEAR}.json'\n",
    "    \n",
    "    # Check if the file exists\n",
    "    file_exists = os.path.isfile(JSON_FILE)\n",
    "    \n",
    "    # If it does not exist: create it\n",
    "    if not file_exists:  # Simplified condition\n",
    "        # Save an empty dict with just \"imdb_id\" to the new json file.\n",
    "        with open(JSON_FILE, 'w') as f:\n",
    "            json.dump([{'imdb_id': 0}], f)\n",
    "\n",
    "    # Saving the new year as the current df\n",
    "    df = basics.loc[basics['startYear'] == YEAR].copy()\n",
    "    # Saving movie ids to list\n",
    "    movie_ids = df['tconst'].copy()\n",
    "\n",
    "    # Load existing data from json into a dataframe called \"previous_df\"\n",
    "    previous_df = pd.read_json(JSON_FILE)\n",
    "\n",
    "    # Filter out any ids that are already in the JSON_FILE\n",
    "    movie_ids_to_get = movie_ids[~movie_ids.isin(previous_df['imdb_id'])]\n",
    "\n",
    "# Get index and movie id from the list\n",
    "    # INNER Loop\n",
    "    for movie_id in tqdm_notebook(movie_ids_to_get,\n",
    "                                  desc=f'Movies from {YEAR}',\n",
    "                                  position=1,\n",
    "                                  leave=True):\n",
    "        try:\n",
    "            # Retrieve the data for the movie id\n",
    "            temp = get_movie_with_rating(movie_id)\n",
    "            # Append/extend results to the existing file using a pre-made function\n",
    "            write_json(temp, JSON_FILE)\n",
    "            # Short 20 ms sleep to prevent overwhelming the server\n",
    "            time.sleep(0.02)\n",
    "\n",
    "        except Exception as e:\n",
    "            errors.append([movie_id, e])\n",
    "\n",
    "    final_year_df = pd.read_json(JSON_FILE)\n",
    "    final_year_df.to_csv(f\"{FOLDER}final_tmdb_data_{YEAR}.csv.gz\", compression=\"gzip\", index=False)\n",
    "\n",
    "print(f\"- Total errors: {len(errors)}\")"
   ]
  },
  {
   "cell_type": "markdown",
   "id": "fceb76a1-4309-4313-83fd-56c093bbe9ec",
   "metadata": {},
   "source": [
    "## Updating the files"
   ]
  },
  {
   "cell_type": "code",
   "execution_count": 22,
   "id": "e1ec16ea-208c-4af0-a1ae-d57406285dc9",
   "metadata": {},
   "outputs": [
    {
     "data": {
      "text/plain": [
       "dict_keys(['api-key'])"
      ]
     },
     "execution_count": 22,
     "metadata": {},
     "output_type": "execute_result"
    }
   ],
   "source": [
    "import json\n",
    "with open(r'/Users/OM22285/.secret/tmdb_api.json') as f:\n",
    "    login = json.load(f)\n",
    "## Display the keys of the loaded dict\n",
    "login.keys()"
   ]
  },
  {
   "cell_type": "code",
   "execution_count": 23,
   "id": "14993550-0398-428b-8ea7-4b968f3d1656",
   "metadata": {},
   "outputs": [],
   "source": [
    "import tmdbsimple as tmdb\n",
    "tmdb.API_KEY = login['api-key']"
   ]
  },
  {
   "cell_type": "code",
   "execution_count": 24,
   "id": "ded2ddb0-ea8d-4d8f-9a0c-7739a95cecea",
   "metadata": {},
   "outputs": [],
   "source": [
    "## make a movie object using the .Movies function from tmdb\n",
    "movie = tmdb.Movies(603)"
   ]
  },
  {
   "cell_type": "code",
   "execution_count": 25,
   "id": "5a28bb7e-5206-43bc-8b8e-c571cefe1c71",
   "metadata": {},
   "outputs": [
    {
     "data": {
      "text/plain": [
       "{'adult': False,\n",
       " 'backdrop_path': '/oMsxZEvz9a708d49b6UdZK1KAo5.jpg',\n",
       " 'belongs_to_collection': {'id': 2344,\n",
       "  'name': 'The Matrix Collection',\n",
       "  'poster_path': '/bV9qTVHTVf0gkW0j7p7M0ILD4pG.jpg',\n",
       "  'backdrop_path': '/bRm2DEgUiYciDw3myHuYFInD7la.jpg'},\n",
       " 'budget': 63000000,\n",
       " 'genres': [{'id': 28, 'name': 'Action'},\n",
       "  {'id': 878, 'name': 'Science Fiction'}],\n",
       " 'homepage': 'http://www.warnerbros.com/matrix',\n",
       " 'id': 603,\n",
       " 'imdb_id': 'tt0133093',\n",
       " 'original_language': 'en',\n",
       " 'original_title': 'The Matrix',\n",
       " 'overview': 'Set in the 22nd century, The Matrix tells the story of a computer hacker who joins a group of underground insurgents fighting the vast and powerful computers who now rule the earth.',\n",
       " 'popularity': 79.245,\n",
       " 'poster_path': '/f89U3ADr1oiB1s9GkdPOEpXUk5H.jpg',\n",
       " 'production_companies': [{'id': 79,\n",
       "   'logo_path': '/tpFpsqbleCzEE2p5EgvUq6ozfCA.png',\n",
       "   'name': 'Village Roadshow Pictures',\n",
       "   'origin_country': 'US'},\n",
       "  {'id': 372,\n",
       "   'logo_path': None,\n",
       "   'name': 'Groucho II Film Partnership',\n",
       "   'origin_country': ''},\n",
       "  {'id': 1885,\n",
       "   'logo_path': '/xlvoOZr4s1PygosrwZyolIFe5xs.png',\n",
       "   'name': 'Silver Pictures',\n",
       "   'origin_country': 'US'},\n",
       "  {'id': 174,\n",
       "   'logo_path': '/IuAlhI9eVC9Z8UQWOIDdWRKSEJ.png',\n",
       "   'name': 'Warner Bros. Pictures',\n",
       "   'origin_country': 'US'}],\n",
       " 'production_countries': [{'iso_3166_1': 'US',\n",
       "   'name': 'United States of America'}],\n",
       " 'release_date': '1999-03-30',\n",
       " 'revenue': 463517383,\n",
       " 'runtime': 136,\n",
       " 'spoken_languages': [{'english_name': 'English',\n",
       "   'iso_639_1': 'en',\n",
       "   'name': 'English'}],\n",
       " 'status': 'Released',\n",
       " 'tagline': 'Welcome to the Real World.',\n",
       " 'title': 'The Matrix',\n",
       " 'video': False,\n",
       " 'vote_average': 8.207,\n",
       " 'vote_count': 24008}"
      ]
     },
     "execution_count": 25,
     "metadata": {},
     "output_type": "execute_result"
    }
   ],
   "source": [
    "info = movie.info()\n",
    "info"
   ]
  },
  {
   "cell_type": "code",
   "execution_count": null,
   "id": "01dce36e-471a-4d22-a98d-82e03898081a",
   "metadata": {},
   "outputs": [],
   "source": []
  }
 ],
 "metadata": {
  "kernelspec": {
   "display_name": "Python (dojo-env)",
   "language": "python",
   "name": "dojo-env"
  },
  "language_info": {
   "codemirror_mode": {
    "name": "ipython",
    "version": 3
   },
   "file_extension": ".py",
   "mimetype": "text/x-python",
   "name": "python",
   "nbconvert_exporter": "python",
   "pygments_lexer": "ipython3",
   "version": "3.10.10"
  },
  "widgets": {
   "application/vnd.jupyter.widget-state+json": {
    "state": {
     "01f38b2347894fae8dcac34ff433dcfe": {
      "model_module": "@jupyter-widgets/base",
      "model_module_version": "2.0.0",
      "model_name": "LayoutModel",
      "state": {}
     },
     "032b27e0a9e844deb267c4bdd7bf291b": {
      "model_module": "@jupyter-widgets/controls",
      "model_module_version": "2.0.0",
      "model_name": "HBoxModel",
      "state": {
       "children": [
        "IPY_MODEL_5453d3d29fef4105a6586233eeccc1c8",
        "IPY_MODEL_e666858c3d244d76b66125998c2d90c0",
        "IPY_MODEL_55660e6f07e54557a2c7aaffe4354dc8"
       ],
       "layout": "IPY_MODEL_42df8afdd5fa485696b6d107136ab2a4"
      }
     },
     "0e9e2efafc1f437aa8281d49e2f37d12": {
      "model_module": "@jupyter-widgets/controls",
      "model_module_version": "2.0.0",
      "model_name": "HTMLStyleModel",
      "state": {
       "description_width": "",
       "font_size": null,
       "text_color": null
      }
     },
     "22dfd70c0db94658a45840fa0bd5bb2f": {
      "model_module": "@jupyter-widgets/controls",
      "model_module_version": "2.0.0",
      "model_name": "HTMLStyleModel",
      "state": {
       "description_width": "",
       "font_size": null,
       "text_color": null
      }
     },
     "23e357163f1940e883b9add228b6e67b": {
      "model_module": "@jupyter-widgets/base",
      "model_module_version": "2.0.0",
      "model_name": "LayoutModel",
      "state": {}
     },
     "2420d6ddac844538b0064c4aab97d302": {
      "model_module": "@jupyter-widgets/controls",
      "model_module_version": "2.0.0",
      "model_name": "HTMLStyleModel",
      "state": {
       "description_width": "",
       "font_size": null,
       "text_color": null
      }
     },
     "27cf40f8af1e4229a6b15e62d6c9c39a": {
      "model_module": "@jupyter-widgets/controls",
      "model_module_version": "2.0.0",
      "model_name": "HTMLStyleModel",
      "state": {
       "description_width": "",
       "font_size": null,
       "text_color": null
      }
     },
     "413bef97ee594ad7b21edcb9796e670b": {
      "model_module": "@jupyter-widgets/controls",
      "model_module_version": "2.0.0",
      "model_name": "ProgressStyleModel",
      "state": {
       "description_width": ""
      }
     },
     "42df8afdd5fa485696b6d107136ab2a4": {
      "model_module": "@jupyter-widgets/base",
      "model_module_version": "2.0.0",
      "model_name": "LayoutModel",
      "state": {}
     },
     "45da8395cbfc4fcdb57cdb51931ba29b": {
      "model_module": "@jupyter-widgets/controls",
      "model_module_version": "2.0.0",
      "model_name": "HTMLStyleModel",
      "state": {
       "description_width": "",
       "font_size": null,
       "text_color": null
      }
     },
     "4b70c26e0c8b421ebee51e32a6221fe1": {
      "model_module": "@jupyter-widgets/base",
      "model_module_version": "2.0.0",
      "model_name": "LayoutModel",
      "state": {}
     },
     "52f32a5cc1ae47fbb3bfc74c6c9ad005": {
      "model_module": "@jupyter-widgets/controls",
      "model_module_version": "2.0.0",
      "model_name": "HTMLModel",
      "state": {
       "layout": "IPY_MODEL_a2e0dafe46494ed4b8b1584a77427fa5",
       "style": "IPY_MODEL_2420d6ddac844538b0064c4aab97d302",
       "value": "Movies from 2000: 100%"
      }
     },
     "533f35c0ecfe46f9901a9a59a1d50fdd": {
      "model_module": "@jupyter-widgets/controls",
      "model_module_version": "2.0.0",
      "model_name": "FloatProgressModel",
      "state": {
       "bar_style": "success",
       "layout": "IPY_MODEL_58438c82d2b845999ad163a7adfdf386",
       "max": 12812,
       "style": "IPY_MODEL_413bef97ee594ad7b21edcb9796e670b",
       "value": 12812
      }
     },
     "5453d3d29fef4105a6586233eeccc1c8": {
      "model_module": "@jupyter-widgets/controls",
      "model_module_version": "2.0.0",
      "model_name": "HTMLModel",
      "state": {
       "layout": "IPY_MODEL_5e7c24862f9d4fa89b345780f34dcebd",
       "style": "IPY_MODEL_892879cf9808449f94ca095af8d2137d",
       "value": "YEARS: 100%"
      }
     },
     "55660e6f07e54557a2c7aaffe4354dc8": {
      "model_module": "@jupyter-widgets/controls",
      "model_module_version": "2.0.0",
      "model_name": "HTMLModel",
      "state": {
       "layout": "IPY_MODEL_9d5d81a571784cd98360076b79d16397",
       "style": "IPY_MODEL_45da8395cbfc4fcdb57cdb51931ba29b",
       "value": " 2/2 [00:02&lt;00:00,  1.23s/it]"
      }
     },
     "58438c82d2b845999ad163a7adfdf386": {
      "model_module": "@jupyter-widgets/base",
      "model_module_version": "2.0.0",
      "model_name": "LayoutModel",
      "state": {}
     },
     "5dbc6ad37ebf46daa392b6752b32639a": {
      "model_module": "@jupyter-widgets/controls",
      "model_module_version": "2.0.0",
      "model_name": "HTMLModel",
      "state": {
       "layout": "IPY_MODEL_23e357163f1940e883b9add228b6e67b",
       "style": "IPY_MODEL_0e9e2efafc1f437aa8281d49e2f37d12",
       "value": " 12812/12812 [00:01&lt;00:00, 13485.81it/s]"
      }
     },
     "5e7c24862f9d4fa89b345780f34dcebd": {
      "model_module": "@jupyter-widgets/base",
      "model_module_version": "2.0.0",
      "model_name": "LayoutModel",
      "state": {}
     },
     "686355858af04208af0cecd8ccafc8ac": {
      "model_module": "@jupyter-widgets/controls",
      "model_module_version": "2.0.0",
      "model_name": "HTMLModel",
      "state": {
       "layout": "IPY_MODEL_e5678576457e477e9f22342d6fbb165a",
       "style": "IPY_MODEL_27cf40f8af1e4229a6b15e62d6c9c39a",
       "value": " 11986/11986 [00:01&lt;00:00, 8741.59it/s]"
      }
     },
     "7a1a562f8d264b32829aa80bc1924c67": {
      "model_module": "@jupyter-widgets/controls",
      "model_module_version": "2.0.0",
      "model_name": "HBoxModel",
      "state": {
       "children": [
        "IPY_MODEL_52f32a5cc1ae47fbb3bfc74c6c9ad005",
        "IPY_MODEL_c04ea4ced9aa45b986d3ce84f3393b63",
        "IPY_MODEL_686355858af04208af0cecd8ccafc8ac"
       ],
       "layout": "IPY_MODEL_4b70c26e0c8b421ebee51e32a6221fe1"
      }
     },
     "830492732ec74fec9eab14f550d2347b": {
      "model_module": "@jupyter-widgets/controls",
      "model_module_version": "2.0.0",
      "model_name": "HTMLModel",
      "state": {
       "layout": "IPY_MODEL_8e8be75a42f945738acd178a166029c1",
       "style": "IPY_MODEL_22dfd70c0db94658a45840fa0bd5bb2f",
       "value": "Movies from 2001: 100%"
      }
     },
     "892879cf9808449f94ca095af8d2137d": {
      "model_module": "@jupyter-widgets/controls",
      "model_module_version": "2.0.0",
      "model_name": "HTMLStyleModel",
      "state": {
       "description_width": "",
       "font_size": null,
       "text_color": null
      }
     },
     "8e8be75a42f945738acd178a166029c1": {
      "model_module": "@jupyter-widgets/base",
      "model_module_version": "2.0.0",
      "model_name": "LayoutModel",
      "state": {}
     },
     "9d5d81a571784cd98360076b79d16397": {
      "model_module": "@jupyter-widgets/base",
      "model_module_version": "2.0.0",
      "model_name": "LayoutModel",
      "state": {}
     },
     "a2d3f4c9cf414b06b9a2d0054c7f2e76": {
      "model_module": "@jupyter-widgets/controls",
      "model_module_version": "2.0.0",
      "model_name": "HBoxModel",
      "state": {
       "children": [
        "IPY_MODEL_830492732ec74fec9eab14f550d2347b",
        "IPY_MODEL_533f35c0ecfe46f9901a9a59a1d50fdd",
        "IPY_MODEL_5dbc6ad37ebf46daa392b6752b32639a"
       ],
       "layout": "IPY_MODEL_c728954fccd644c89ddf3d7f3889362e"
      }
     },
     "a2e0dafe46494ed4b8b1584a77427fa5": {
      "model_module": "@jupyter-widgets/base",
      "model_module_version": "2.0.0",
      "model_name": "LayoutModel",
      "state": {}
     },
     "c04ea4ced9aa45b986d3ce84f3393b63": {
      "model_module": "@jupyter-widgets/controls",
      "model_module_version": "2.0.0",
      "model_name": "FloatProgressModel",
      "state": {
       "bar_style": "success",
       "layout": "IPY_MODEL_e8d5790711e844b8b34b0cf37a690f78",
       "max": 11986,
       "style": "IPY_MODEL_cb1210263e8c44dcba380cdc12066303",
       "value": 11986
      }
     },
     "c728954fccd644c89ddf3d7f3889362e": {
      "model_module": "@jupyter-widgets/base",
      "model_module_version": "2.0.0",
      "model_name": "LayoutModel",
      "state": {}
     },
     "cb1210263e8c44dcba380cdc12066303": {
      "model_module": "@jupyter-widgets/controls",
      "model_module_version": "2.0.0",
      "model_name": "ProgressStyleModel",
      "state": {
       "description_width": ""
      }
     },
     "e5678576457e477e9f22342d6fbb165a": {
      "model_module": "@jupyter-widgets/base",
      "model_module_version": "2.0.0",
      "model_name": "LayoutModel",
      "state": {}
     },
     "e666858c3d244d76b66125998c2d90c0": {
      "model_module": "@jupyter-widgets/controls",
      "model_module_version": "2.0.0",
      "model_name": "FloatProgressModel",
      "state": {
       "bar_style": "success",
       "layout": "IPY_MODEL_01f38b2347894fae8dcac34ff433dcfe",
       "max": 2,
       "style": "IPY_MODEL_f9d6445b52094c65ad12087acb494169",
       "value": 2
      }
     },
     "e8d5790711e844b8b34b0cf37a690f78": {
      "model_module": "@jupyter-widgets/base",
      "model_module_version": "2.0.0",
      "model_name": "LayoutModel",
      "state": {}
     },
     "f9d6445b52094c65ad12087acb494169": {
      "model_module": "@jupyter-widgets/controls",
      "model_module_version": "2.0.0",
      "model_name": "ProgressStyleModel",
      "state": {
       "description_width": ""
      }
     }
    },
    "version_major": 2,
    "version_minor": 0
   }
  }
 },
 "nbformat": 4,
 "nbformat_minor": 5
}
